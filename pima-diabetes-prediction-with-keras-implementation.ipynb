{
 "cells": [
  {
   "cell_type": "markdown",
   "id": "38d0944d",
   "metadata": {
    "_cell_guid": "b1076dfc-b9ad-4769-8c92-a6c4dae69d19",
    "_uuid": "8f2839f25d086af736a60e9eeb907d3b93b6e0e5",
    "execution": {
     "iopub.execute_input": "2022-04-23T06:10:25.360439Z",
     "iopub.status.busy": "2022-04-23T06:10:25.360117Z",
     "iopub.status.idle": "2022-04-23T06:10:25.366145Z",
     "shell.execute_reply": "2022-04-23T06:10:25.365398Z",
     "shell.execute_reply.started": "2022-04-23T06:10:25.360405Z"
    },
    "papermill": {
     "duration": 0.028316,
     "end_time": "2022-04-23T06:20:23.509271",
     "exception": false,
     "start_time": "2022-04-23T06:20:23.480955",
     "status": "completed"
    },
    "tags": []
   },
   "source": [
    "**Pima Diabetes Prediction:** This Notebook will comprise of Explanatory Data Analysis, of the Pima Diabetes Database, and an Neural Network Model will be implemented to extract features from the dataset and predict the outcome that whether a patient with given attributes is having diabetes or not."
   ]
  },
  {
   "cell_type": "code",
   "execution_count": 1,
   "id": "f16cc075",
   "metadata": {
    "execution": {
     "iopub.execute_input": "2022-04-23T06:20:23.555847Z",
     "iopub.status.busy": "2022-04-23T06:20:23.555262Z",
     "iopub.status.idle": "2022-04-23T06:20:24.790338Z",
     "shell.execute_reply": "2022-04-23T06:20:24.789578Z"
    },
    "papermill": {
     "duration": 1.262955,
     "end_time": "2022-04-23T06:20:24.792819",
     "exception": false,
     "start_time": "2022-04-23T06:20:23.529864",
     "status": "completed"
    },
    "tags": []
   },
   "outputs": [],
   "source": [
    "#Importing Libraries\n",
    "import pandas as pd\n",
    "import matplotlib.pyplot as plt\n",
    "import seaborn as sns\n",
    "import numpy as np\n",
    "from sklearn.model_selection import train_test_split\n",
    "from sklearn.preprocessing import StandardScaler\n",
    "from sklearn.metrics import accuracy_score\n",
    "import warnings\n",
    "warnings.filterwarnings(\"ignore\")"
   ]
  },
  {
   "cell_type": "code",
   "execution_count": 2,
   "id": "db1bae7e",
   "metadata": {
    "execution": {
     "iopub.execute_input": "2022-04-23T06:20:24.834096Z",
     "iopub.status.busy": "2022-04-23T06:20:24.833360Z",
     "iopub.status.idle": "2022-04-23T06:20:24.870094Z",
     "shell.execute_reply": "2022-04-23T06:20:24.869434Z"
    },
    "papermill": {
     "duration": 0.060068,
     "end_time": "2022-04-23T06:20:24.872511",
     "exception": false,
     "start_time": "2022-04-23T06:20:24.812443",
     "status": "completed"
    },
    "tags": []
   },
   "outputs": [
    {
     "data": {
      "text/html": [
       "<div>\n",
       "<style scoped>\n",
       "    .dataframe tbody tr th:only-of-type {\n",
       "        vertical-align: middle;\n",
       "    }\n",
       "\n",
       "    .dataframe tbody tr th {\n",
       "        vertical-align: top;\n",
       "    }\n",
       "\n",
       "    .dataframe thead th {\n",
       "        text-align: right;\n",
       "    }\n",
       "</style>\n",
       "<table border=\"1\" class=\"dataframe\">\n",
       "  <thead>\n",
       "    <tr style=\"text-align: right;\">\n",
       "      <th></th>\n",
       "      <th>Pregnancies</th>\n",
       "      <th>Glucose</th>\n",
       "      <th>BloodPressure</th>\n",
       "      <th>SkinThickness</th>\n",
       "      <th>Insulin</th>\n",
       "      <th>BMI</th>\n",
       "      <th>DiabetesPedigreeFunction</th>\n",
       "      <th>Age</th>\n",
       "      <th>Outcome</th>\n",
       "    </tr>\n",
       "  </thead>\n",
       "  <tbody>\n",
       "    <tr>\n",
       "      <th>0</th>\n",
       "      <td>6</td>\n",
       "      <td>148</td>\n",
       "      <td>72</td>\n",
       "      <td>35</td>\n",
       "      <td>0</td>\n",
       "      <td>33.6</td>\n",
       "      <td>0.627</td>\n",
       "      <td>50</td>\n",
       "      <td>1</td>\n",
       "    </tr>\n",
       "    <tr>\n",
       "      <th>1</th>\n",
       "      <td>1</td>\n",
       "      <td>85</td>\n",
       "      <td>66</td>\n",
       "      <td>29</td>\n",
       "      <td>0</td>\n",
       "      <td>26.6</td>\n",
       "      <td>0.351</td>\n",
       "      <td>31</td>\n",
       "      <td>0</td>\n",
       "    </tr>\n",
       "    <tr>\n",
       "      <th>2</th>\n",
       "      <td>8</td>\n",
       "      <td>183</td>\n",
       "      <td>64</td>\n",
       "      <td>0</td>\n",
       "      <td>0</td>\n",
       "      <td>23.3</td>\n",
       "      <td>0.672</td>\n",
       "      <td>32</td>\n",
       "      <td>1</td>\n",
       "    </tr>\n",
       "    <tr>\n",
       "      <th>3</th>\n",
       "      <td>1</td>\n",
       "      <td>89</td>\n",
       "      <td>66</td>\n",
       "      <td>23</td>\n",
       "      <td>94</td>\n",
       "      <td>28.1</td>\n",
       "      <td>0.167</td>\n",
       "      <td>21</td>\n",
       "      <td>0</td>\n",
       "    </tr>\n",
       "    <tr>\n",
       "      <th>4</th>\n",
       "      <td>0</td>\n",
       "      <td>137</td>\n",
       "      <td>40</td>\n",
       "      <td>35</td>\n",
       "      <td>168</td>\n",
       "      <td>43.1</td>\n",
       "      <td>2.288</td>\n",
       "      <td>33</td>\n",
       "      <td>1</td>\n",
       "    </tr>\n",
       "  </tbody>\n",
       "</table>\n",
       "</div>"
      ],
      "text/plain": [
       "   Pregnancies  Glucose  BloodPressure  SkinThickness  Insulin   BMI  \\\n",
       "0            6      148             72             35        0  33.6   \n",
       "1            1       85             66             29        0  26.6   \n",
       "2            8      183             64              0        0  23.3   \n",
       "3            1       89             66             23       94  28.1   \n",
       "4            0      137             40             35      168  43.1   \n",
       "\n",
       "   DiabetesPedigreeFunction  Age  Outcome  \n",
       "0                     0.627   50        1  \n",
       "1                     0.351   31        0  \n",
       "2                     0.672   32        1  \n",
       "3                     0.167   21        0  \n",
       "4                     2.288   33        1  "
      ]
     },
     "execution_count": 2,
     "metadata": {},
     "output_type": "execute_result"
    }
   ],
   "source": [
    "#Loading Data\n",
    "\n",
    "df = pd.read_csv('../input/pima-indians-diabetes-database/diabetes.csv')\n",
    "df.head()"
   ]
  },
  {
   "cell_type": "code",
   "execution_count": 3,
   "id": "90b49270",
   "metadata": {
    "execution": {
     "iopub.execute_input": "2022-04-23T06:20:24.915726Z",
     "iopub.status.busy": "2022-04-23T06:20:24.915251Z",
     "iopub.status.idle": "2022-04-23T06:20:24.962269Z",
     "shell.execute_reply": "2022-04-23T06:20:24.961269Z"
    },
    "papermill": {
     "duration": 0.070746,
     "end_time": "2022-04-23T06:20:24.964518",
     "exception": false,
     "start_time": "2022-04-23T06:20:24.893772",
     "status": "completed"
    },
    "tags": []
   },
   "outputs": [
    {
     "data": {
      "text/html": [
       "<div>\n",
       "<style scoped>\n",
       "    .dataframe tbody tr th:only-of-type {\n",
       "        vertical-align: middle;\n",
       "    }\n",
       "\n",
       "    .dataframe tbody tr th {\n",
       "        vertical-align: top;\n",
       "    }\n",
       "\n",
       "    .dataframe thead th {\n",
       "        text-align: right;\n",
       "    }\n",
       "</style>\n",
       "<table border=\"1\" class=\"dataframe\">\n",
       "  <thead>\n",
       "    <tr style=\"text-align: right;\">\n",
       "      <th></th>\n",
       "      <th>Pregnancies</th>\n",
       "      <th>Glucose</th>\n",
       "      <th>BloodPressure</th>\n",
       "      <th>SkinThickness</th>\n",
       "      <th>Insulin</th>\n",
       "      <th>BMI</th>\n",
       "      <th>DiabetesPedigreeFunction</th>\n",
       "      <th>Age</th>\n",
       "      <th>Outcome</th>\n",
       "    </tr>\n",
       "  </thead>\n",
       "  <tbody>\n",
       "    <tr>\n",
       "      <th>count</th>\n",
       "      <td>768.000000</td>\n",
       "      <td>768.000000</td>\n",
       "      <td>768.000000</td>\n",
       "      <td>768.000000</td>\n",
       "      <td>768.000000</td>\n",
       "      <td>768.000000</td>\n",
       "      <td>768.000000</td>\n",
       "      <td>768.000000</td>\n",
       "      <td>768.000000</td>\n",
       "    </tr>\n",
       "    <tr>\n",
       "      <th>mean</th>\n",
       "      <td>3.845052</td>\n",
       "      <td>120.894531</td>\n",
       "      <td>69.105469</td>\n",
       "      <td>20.536458</td>\n",
       "      <td>79.799479</td>\n",
       "      <td>31.992578</td>\n",
       "      <td>0.471876</td>\n",
       "      <td>33.240885</td>\n",
       "      <td>0.348958</td>\n",
       "    </tr>\n",
       "    <tr>\n",
       "      <th>std</th>\n",
       "      <td>3.369578</td>\n",
       "      <td>31.972618</td>\n",
       "      <td>19.355807</td>\n",
       "      <td>15.952218</td>\n",
       "      <td>115.244002</td>\n",
       "      <td>7.884160</td>\n",
       "      <td>0.331329</td>\n",
       "      <td>11.760232</td>\n",
       "      <td>0.476951</td>\n",
       "    </tr>\n",
       "    <tr>\n",
       "      <th>min</th>\n",
       "      <td>0.000000</td>\n",
       "      <td>0.000000</td>\n",
       "      <td>0.000000</td>\n",
       "      <td>0.000000</td>\n",
       "      <td>0.000000</td>\n",
       "      <td>0.000000</td>\n",
       "      <td>0.078000</td>\n",
       "      <td>21.000000</td>\n",
       "      <td>0.000000</td>\n",
       "    </tr>\n",
       "    <tr>\n",
       "      <th>25%</th>\n",
       "      <td>1.000000</td>\n",
       "      <td>99.000000</td>\n",
       "      <td>62.000000</td>\n",
       "      <td>0.000000</td>\n",
       "      <td>0.000000</td>\n",
       "      <td>27.300000</td>\n",
       "      <td>0.243750</td>\n",
       "      <td>24.000000</td>\n",
       "      <td>0.000000</td>\n",
       "    </tr>\n",
       "    <tr>\n",
       "      <th>50%</th>\n",
       "      <td>3.000000</td>\n",
       "      <td>117.000000</td>\n",
       "      <td>72.000000</td>\n",
       "      <td>23.000000</td>\n",
       "      <td>30.500000</td>\n",
       "      <td>32.000000</td>\n",
       "      <td>0.372500</td>\n",
       "      <td>29.000000</td>\n",
       "      <td>0.000000</td>\n",
       "    </tr>\n",
       "    <tr>\n",
       "      <th>75%</th>\n",
       "      <td>6.000000</td>\n",
       "      <td>140.250000</td>\n",
       "      <td>80.000000</td>\n",
       "      <td>32.000000</td>\n",
       "      <td>127.250000</td>\n",
       "      <td>36.600000</td>\n",
       "      <td>0.626250</td>\n",
       "      <td>41.000000</td>\n",
       "      <td>1.000000</td>\n",
       "    </tr>\n",
       "    <tr>\n",
       "      <th>max</th>\n",
       "      <td>17.000000</td>\n",
       "      <td>199.000000</td>\n",
       "      <td>122.000000</td>\n",
       "      <td>99.000000</td>\n",
       "      <td>846.000000</td>\n",
       "      <td>67.100000</td>\n",
       "      <td>2.420000</td>\n",
       "      <td>81.000000</td>\n",
       "      <td>1.000000</td>\n",
       "    </tr>\n",
       "  </tbody>\n",
       "</table>\n",
       "</div>"
      ],
      "text/plain": [
       "       Pregnancies     Glucose  BloodPressure  SkinThickness     Insulin  \\\n",
       "count   768.000000  768.000000     768.000000     768.000000  768.000000   \n",
       "mean      3.845052  120.894531      69.105469      20.536458   79.799479   \n",
       "std       3.369578   31.972618      19.355807      15.952218  115.244002   \n",
       "min       0.000000    0.000000       0.000000       0.000000    0.000000   \n",
       "25%       1.000000   99.000000      62.000000       0.000000    0.000000   \n",
       "50%       3.000000  117.000000      72.000000      23.000000   30.500000   \n",
       "75%       6.000000  140.250000      80.000000      32.000000  127.250000   \n",
       "max      17.000000  199.000000     122.000000      99.000000  846.000000   \n",
       "\n",
       "              BMI  DiabetesPedigreeFunction         Age     Outcome  \n",
       "count  768.000000                768.000000  768.000000  768.000000  \n",
       "mean    31.992578                  0.471876   33.240885    0.348958  \n",
       "std      7.884160                  0.331329   11.760232    0.476951  \n",
       "min      0.000000                  0.078000   21.000000    0.000000  \n",
       "25%     27.300000                  0.243750   24.000000    0.000000  \n",
       "50%     32.000000                  0.372500   29.000000    0.000000  \n",
       "75%     36.600000                  0.626250   41.000000    1.000000  \n",
       "max     67.100000                  2.420000   81.000000    1.000000  "
      ]
     },
     "execution_count": 3,
     "metadata": {},
     "output_type": "execute_result"
    }
   ],
   "source": [
    "df.describe()"
   ]
  },
  {
   "cell_type": "code",
   "execution_count": 4,
   "id": "21724bed",
   "metadata": {
    "execution": {
     "iopub.execute_input": "2022-04-23T06:20:25.007791Z",
     "iopub.status.busy": "2022-04-23T06:20:25.007478Z",
     "iopub.status.idle": "2022-04-23T06:20:25.027107Z",
     "shell.execute_reply": "2022-04-23T06:20:25.026442Z"
    },
    "papermill": {
     "duration": 0.043529,
     "end_time": "2022-04-23T06:20:25.028977",
     "exception": false,
     "start_time": "2022-04-23T06:20:24.985448",
     "status": "completed"
    },
    "tags": []
   },
   "outputs": [
    {
     "data": {
      "text/html": [
       "<div>\n",
       "<style scoped>\n",
       "    .dataframe tbody tr th:only-of-type {\n",
       "        vertical-align: middle;\n",
       "    }\n",
       "\n",
       "    .dataframe tbody tr th {\n",
       "        vertical-align: top;\n",
       "    }\n",
       "\n",
       "    .dataframe thead th {\n",
       "        text-align: right;\n",
       "    }\n",
       "</style>\n",
       "<table border=\"1\" class=\"dataframe\">\n",
       "  <thead>\n",
       "    <tr style=\"text-align: right;\">\n",
       "      <th></th>\n",
       "      <th>Pregnancies</th>\n",
       "      <th>Glucose</th>\n",
       "      <th>BloodPressure</th>\n",
       "      <th>SkinThickness</th>\n",
       "      <th>Insulin</th>\n",
       "      <th>BMI</th>\n",
       "      <th>DiabetesPedigreeFunction</th>\n",
       "      <th>Age</th>\n",
       "      <th>Outcome</th>\n",
       "    </tr>\n",
       "  </thead>\n",
       "  <tbody>\n",
       "    <tr>\n",
       "      <th>Pregnancies</th>\n",
       "      <td>1.000000</td>\n",
       "      <td>0.129459</td>\n",
       "      <td>0.141282</td>\n",
       "      <td>-0.081672</td>\n",
       "      <td>-0.073535</td>\n",
       "      <td>0.017683</td>\n",
       "      <td>-0.033523</td>\n",
       "      <td>0.544341</td>\n",
       "      <td>0.221898</td>\n",
       "    </tr>\n",
       "    <tr>\n",
       "      <th>Glucose</th>\n",
       "      <td>0.129459</td>\n",
       "      <td>1.000000</td>\n",
       "      <td>0.152590</td>\n",
       "      <td>0.057328</td>\n",
       "      <td>0.331357</td>\n",
       "      <td>0.221071</td>\n",
       "      <td>0.137337</td>\n",
       "      <td>0.263514</td>\n",
       "      <td>0.466581</td>\n",
       "    </tr>\n",
       "    <tr>\n",
       "      <th>BloodPressure</th>\n",
       "      <td>0.141282</td>\n",
       "      <td>0.152590</td>\n",
       "      <td>1.000000</td>\n",
       "      <td>0.207371</td>\n",
       "      <td>0.088933</td>\n",
       "      <td>0.281805</td>\n",
       "      <td>0.041265</td>\n",
       "      <td>0.239528</td>\n",
       "      <td>0.065068</td>\n",
       "    </tr>\n",
       "    <tr>\n",
       "      <th>SkinThickness</th>\n",
       "      <td>-0.081672</td>\n",
       "      <td>0.057328</td>\n",
       "      <td>0.207371</td>\n",
       "      <td>1.000000</td>\n",
       "      <td>0.436783</td>\n",
       "      <td>0.392573</td>\n",
       "      <td>0.183928</td>\n",
       "      <td>-0.113970</td>\n",
       "      <td>0.074752</td>\n",
       "    </tr>\n",
       "    <tr>\n",
       "      <th>Insulin</th>\n",
       "      <td>-0.073535</td>\n",
       "      <td>0.331357</td>\n",
       "      <td>0.088933</td>\n",
       "      <td>0.436783</td>\n",
       "      <td>1.000000</td>\n",
       "      <td>0.197859</td>\n",
       "      <td>0.185071</td>\n",
       "      <td>-0.042163</td>\n",
       "      <td>0.130548</td>\n",
       "    </tr>\n",
       "    <tr>\n",
       "      <th>BMI</th>\n",
       "      <td>0.017683</td>\n",
       "      <td>0.221071</td>\n",
       "      <td>0.281805</td>\n",
       "      <td>0.392573</td>\n",
       "      <td>0.197859</td>\n",
       "      <td>1.000000</td>\n",
       "      <td>0.140647</td>\n",
       "      <td>0.036242</td>\n",
       "      <td>0.292695</td>\n",
       "    </tr>\n",
       "    <tr>\n",
       "      <th>DiabetesPedigreeFunction</th>\n",
       "      <td>-0.033523</td>\n",
       "      <td>0.137337</td>\n",
       "      <td>0.041265</td>\n",
       "      <td>0.183928</td>\n",
       "      <td>0.185071</td>\n",
       "      <td>0.140647</td>\n",
       "      <td>1.000000</td>\n",
       "      <td>0.033561</td>\n",
       "      <td>0.173844</td>\n",
       "    </tr>\n",
       "    <tr>\n",
       "      <th>Age</th>\n",
       "      <td>0.544341</td>\n",
       "      <td>0.263514</td>\n",
       "      <td>0.239528</td>\n",
       "      <td>-0.113970</td>\n",
       "      <td>-0.042163</td>\n",
       "      <td>0.036242</td>\n",
       "      <td>0.033561</td>\n",
       "      <td>1.000000</td>\n",
       "      <td>0.238356</td>\n",
       "    </tr>\n",
       "    <tr>\n",
       "      <th>Outcome</th>\n",
       "      <td>0.221898</td>\n",
       "      <td>0.466581</td>\n",
       "      <td>0.065068</td>\n",
       "      <td>0.074752</td>\n",
       "      <td>0.130548</td>\n",
       "      <td>0.292695</td>\n",
       "      <td>0.173844</td>\n",
       "      <td>0.238356</td>\n",
       "      <td>1.000000</td>\n",
       "    </tr>\n",
       "  </tbody>\n",
       "</table>\n",
       "</div>"
      ],
      "text/plain": [
       "                          Pregnancies   Glucose  BloodPressure  SkinThickness  \\\n",
       "Pregnancies                  1.000000  0.129459       0.141282      -0.081672   \n",
       "Glucose                      0.129459  1.000000       0.152590       0.057328   \n",
       "BloodPressure                0.141282  0.152590       1.000000       0.207371   \n",
       "SkinThickness               -0.081672  0.057328       0.207371       1.000000   \n",
       "Insulin                     -0.073535  0.331357       0.088933       0.436783   \n",
       "BMI                          0.017683  0.221071       0.281805       0.392573   \n",
       "DiabetesPedigreeFunction    -0.033523  0.137337       0.041265       0.183928   \n",
       "Age                          0.544341  0.263514       0.239528      -0.113970   \n",
       "Outcome                      0.221898  0.466581       0.065068       0.074752   \n",
       "\n",
       "                           Insulin       BMI  DiabetesPedigreeFunction  \\\n",
       "Pregnancies              -0.073535  0.017683                 -0.033523   \n",
       "Glucose                   0.331357  0.221071                  0.137337   \n",
       "BloodPressure             0.088933  0.281805                  0.041265   \n",
       "SkinThickness             0.436783  0.392573                  0.183928   \n",
       "Insulin                   1.000000  0.197859                  0.185071   \n",
       "BMI                       0.197859  1.000000                  0.140647   \n",
       "DiabetesPedigreeFunction  0.185071  0.140647                  1.000000   \n",
       "Age                      -0.042163  0.036242                  0.033561   \n",
       "Outcome                   0.130548  0.292695                  0.173844   \n",
       "\n",
       "                               Age   Outcome  \n",
       "Pregnancies               0.544341  0.221898  \n",
       "Glucose                   0.263514  0.466581  \n",
       "BloodPressure             0.239528  0.065068  \n",
       "SkinThickness            -0.113970  0.074752  \n",
       "Insulin                  -0.042163  0.130548  \n",
       "BMI                       0.036242  0.292695  \n",
       "DiabetesPedigreeFunction  0.033561  0.173844  \n",
       "Age                       1.000000  0.238356  \n",
       "Outcome                   0.238356  1.000000  "
      ]
     },
     "execution_count": 4,
     "metadata": {},
     "output_type": "execute_result"
    }
   ],
   "source": [
    "#Generating Correlation Matrix\n",
    "df.corr()"
   ]
  },
  {
   "cell_type": "code",
   "execution_count": 5,
   "id": "02ea57c1",
   "metadata": {
    "execution": {
     "iopub.execute_input": "2022-04-23T06:20:25.073378Z",
     "iopub.status.busy": "2022-04-23T06:20:25.072587Z",
     "iopub.status.idle": "2022-04-23T06:20:25.078105Z",
     "shell.execute_reply": "2022-04-23T06:20:25.077345Z"
    },
    "papermill": {
     "duration": 0.029845,
     "end_time": "2022-04-23T06:20:25.080121",
     "exception": false,
     "start_time": "2022-04-23T06:20:25.050276",
     "status": "completed"
    },
    "tags": []
   },
   "outputs": [
    {
     "data": {
      "text/plain": [
       "(768, 9)"
      ]
     },
     "execution_count": 5,
     "metadata": {},
     "output_type": "execute_result"
    }
   ],
   "source": [
    "#Dimensions of the Dataset\n",
    "df.shape"
   ]
  },
  {
   "cell_type": "code",
   "execution_count": 6,
   "id": "bdb2f5c9",
   "metadata": {
    "execution": {
     "iopub.execute_input": "2022-04-23T06:20:25.125299Z",
     "iopub.status.busy": "2022-04-23T06:20:25.124795Z",
     "iopub.status.idle": "2022-04-23T06:20:25.398887Z",
     "shell.execute_reply": "2022-04-23T06:20:25.398024Z"
    },
    "papermill": {
     "duration": 0.299122,
     "end_time": "2022-04-23T06:20:25.400949",
     "exception": false,
     "start_time": "2022-04-23T06:20:25.101827",
     "status": "completed"
    },
    "tags": []
   },
   "outputs": [
    {
     "data": {
      "image/png": "[encoded data removed]",
      "text/plain": [
       "<Figure size 864x360 with 1 Axes>"
      ]
     },
     "metadata": {
      "needs_background": "light"
     },
     "output_type": "display_data"
    }
   ],
   "source": [
    "plt.figure(figsize=(12,5))\n",
    "plt.title(\"Distribution of Glucose\")\n",
    "ax = sns.distplot(df[\"Glucose\"], color = 'g')"
   ]
  },
  {
   "cell_type": "code",
   "execution_count": 7,
   "id": "4f6abdb1",
   "metadata": {
    "execution": {
     "iopub.execute_input": "2022-04-23T06:20:25.448396Z",
     "iopub.status.busy": "2022-04-23T06:20:25.448084Z",
     "iopub.status.idle": "2022-04-23T06:20:25.731868Z",
     "shell.execute_reply": "2022-04-23T06:20:25.730964Z"
    },
    "papermill": {
     "duration": 0.310079,
     "end_time": "2022-04-23T06:20:25.734015",
     "exception": false,
     "start_time": "2022-04-23T06:20:25.423936",
     "status": "completed"
    },
    "tags": []
   },
   "outputs": [
    {
     "data": {
      "image/png": "[encoded data removed]",
      "text/plain": [
       "<Figure size 864x360 with 1 Axes>"
      ]
     },
     "metadata": {
      "needs_background": "light"
     },
     "output_type": "display_data"
    }
   ],
   "source": [
    "plt.figure(figsize=(12,5))\n",
    "plt.title(\"Distribution of Insulin\")\n",
    "ax = sns.distplot(df[\"Insulin\"], color = 'g')"
   ]
  },
  {
   "cell_type": "code",
   "execution_count": 8,
   "id": "494febd8",
   "metadata": {
    "execution": {
     "iopub.execute_input": "2022-04-23T06:20:25.785951Z",
     "iopub.status.busy": "2022-04-23T06:20:25.785329Z",
     "iopub.status.idle": "2022-04-23T06:20:26.070963Z",
     "shell.execute_reply": "2022-04-23T06:20:26.070043Z"
    },
    "papermill": {
     "duration": 0.314384,
     "end_time": "2022-04-23T06:20:26.073124",
     "exception": false,
     "start_time": "2022-04-23T06:20:25.758740",
     "status": "completed"
    },
    "tags": []
   },
   "outputs": [
    {
     "data": {
      "image/png": "[encoded data removed]",
      "text/plain": [
       "<Figure size 864x360 with 1 Axes>"
      ]
     },
     "metadata": {
      "needs_background": "light"
     },
     "output_type": "display_data"
    }
   ],
   "source": [
    "plt.figure(figsize=(12,5))\n",
    "plt.title(\"Distribution of age\")\n",
    "ax = sns.distplot(df[\"Age\"], color = 'g')"
   ]
  },
  {
   "cell_type": "code",
   "execution_count": 9,
   "id": "5e9ff877",
   "metadata": {
    "execution": {
     "iopub.execute_input": "2022-04-23T06:20:26.126586Z",
     "iopub.status.busy": "2022-04-23T06:20:26.125768Z",
     "iopub.status.idle": "2022-04-23T06:20:27.443755Z",
     "shell.execute_reply": "2022-04-23T06:20:27.443109Z"
    },
    "papermill": {
     "duration": 1.34725,
     "end_time": "2022-04-23T06:20:27.445742",
     "exception": false,
     "start_time": "2022-04-23T06:20:26.098492",
     "status": "completed"
    },
    "tags": []
   },
   "outputs": [
    {
     "data": {
      "text/plain": [
       "Text(0.5, 1.0, 'Distribution of charges and age for non-smokers')"
      ]
     },
     "execution_count": 9,
     "metadata": {},
     "output_type": "execute_result"
    },
    {
     "data": {
      "image/png": "[encoded data removed]",
      "text/plain": [
       "<Figure size 432x432 with 3 Axes>"
      ]
     },
     "metadata": {
      "needs_background": "light"
     },
     "output_type": "display_data"
    }
   ],
   "source": [
    "g = sns.jointplot(x=\"Age\", y=\"Glucose\", data = df,kind=\"kde\", color=\"m\")\n",
    "g.plot_joint(plt.scatter, c=\"w\", s=30, linewidth=1, marker=\"+\")\n",
    "g.ax_joint.collections[0].set_alpha(0)\n",
    "g.set_axis_labels(\"$X$\", \"$Y$\")\n",
    "ax.set_title('Distribution of charges and age for non-smokers')"
   ]
  },
  {
   "cell_type": "code",
   "execution_count": 10,
   "id": "8a060601",
   "metadata": {
    "execution": {
     "iopub.execute_input": "2022-04-23T06:20:27.505226Z",
     "iopub.status.busy": "2022-04-23T06:20:27.504614Z",
     "iopub.status.idle": "2022-04-23T06:20:28.194465Z",
     "shell.execute_reply": "2022-04-23T06:20:28.193519Z"
    },
    "papermill": {
     "duration": 0.72428,
     "end_time": "2022-04-23T06:20:28.197673",
     "exception": false,
     "start_time": "2022-04-23T06:20:27.473393",
     "status": "completed"
    },
    "tags": []
   },
   "outputs": [
    {
     "data": {
      "text/plain": [
       "<AxesSubplot:>"
      ]
     },
     "execution_count": 10,
     "metadata": {},
     "output_type": "execute_result"
    },
    {
     "data": {
      "image/png": "[encoded data removed]",
      "text/plain": [
       "<Figure size 432x288 with 2 Axes>"
      ]
     },
     "metadata": {
      "needs_background": "light"
     },
     "output_type": "display_data"
    }
   ],
   "source": [
    "sns.heatmap(df.corr(), annot = True)"
   ]
  },
  {
   "cell_type": "code",
   "execution_count": 11,
   "id": "69759ebf",
   "metadata": {
    "execution": {
     "iopub.execute_input": "2022-04-23T06:20:28.261000Z",
     "iopub.status.busy": "2022-04-23T06:20:28.260348Z",
     "iopub.status.idle": "2022-04-23T06:20:28.274775Z",
     "shell.execute_reply": "2022-04-23T06:20:28.273982Z"
    },
    "papermill": {
     "duration": 0.049099,
     "end_time": "2022-04-23T06:20:28.276996",
     "exception": false,
     "start_time": "2022-04-23T06:20:28.227897",
     "status": "completed"
    },
    "tags": []
   },
   "outputs": [],
   "source": [
    "Scaler = StandardScaler()\n",
    "\n",
    "X = df.drop(['Outcome'], axis = 1)\n",
    "y = df[['Outcome']]\n",
    "X_Train, X_Test, y_Train, y_Test = train_test_split(X, y, test_size = 0.1, random_state  = 0)\n",
    "X_train = Scaler.fit_transform(X_Train)\n",
    "X_test = Scaler.transform(X_Test)\n"
   ]
  },
  {
   "cell_type": "code",
   "execution_count": 12,
   "id": "023539a1",
   "metadata": {
    "execution": {
     "iopub.execute_input": "2022-04-23T06:20:28.339375Z",
     "iopub.status.busy": "2022-04-23T06:20:28.339085Z",
     "iopub.status.idle": "2022-04-23T06:20:28.344169Z",
     "shell.execute_reply": "2022-04-23T06:20:28.343629Z"
    },
    "papermill": {
     "duration": 0.038959,
     "end_time": "2022-04-23T06:20:28.345903",
     "exception": false,
     "start_time": "2022-04-23T06:20:28.306944",
     "status": "completed"
    },
    "tags": []
   },
   "outputs": [
    {
     "data": {
      "text/plain": [
       "(691, 8)"
      ]
     },
     "execution_count": 12,
     "metadata": {},
     "output_type": "execute_result"
    }
   ],
   "source": [
    "X_Train.shape"
   ]
  },
  {
   "cell_type": "code",
   "execution_count": 13,
   "id": "e23753f1",
   "metadata": {
    "execution": {
     "iopub.execute_input": "2022-04-23T06:20:28.409015Z",
     "iopub.status.busy": "2022-04-23T06:20:28.408723Z",
     "iopub.status.idle": "2022-04-23T06:20:33.775868Z",
     "shell.execute_reply": "2022-04-23T06:20:33.774766Z"
    },
    "papermill": {
     "duration": 5.402285,
     "end_time": "2022-04-23T06:20:33.778413",
     "exception": false,
     "start_time": "2022-04-23T06:20:28.376128",
     "status": "completed"
    },
    "tags": []
   },
   "outputs": [],
   "source": [
    "import keras\n",
    "from keras.models import Sequential\n",
    "from keras.layers import Dense, Dropout"
   ]
  },
  {
   "cell_type": "code",
   "execution_count": 14,
   "id": "5df2092f",
   "metadata": {
    "execution": {
     "iopub.execute_input": "2022-04-23T06:20:33.841485Z",
     "iopub.status.busy": "2022-04-23T06:20:33.840960Z",
     "iopub.status.idle": "2022-04-23T06:20:33.900595Z",
     "shell.execute_reply": "2022-04-23T06:20:33.899520Z"
    },
    "papermill": {
     "duration": 0.093694,
     "end_time": "2022-04-23T06:20:33.902686",
     "exception": false,
     "start_time": "2022-04-23T06:20:33.808992",
     "status": "completed"
    },
    "tags": []
   },
   "outputs": [
    {
     "name": "stderr",
     "output_type": "stream",
     "text": [
      "2022-04-23 06:20:33.877238: I tensorflow/core/common_runtime/process_util.cc:146] Creating new thread pool with default inter op setting: 2. Tune using inter_op_parallelism_threads for best performance.\n"
     ]
    }
   ],
   "source": [
    "model = Sequential()"
   ]
  },
  {
   "cell_type": "code",
   "execution_count": 15,
   "id": "a18fbc53",
   "metadata": {
    "execution": {
     "iopub.execute_input": "2022-04-23T06:20:33.967132Z",
     "iopub.status.busy": "2022-04-23T06:20:33.966576Z",
     "iopub.status.idle": "2022-04-23T06:20:34.051759Z",
     "shell.execute_reply": "2022-04-23T06:20:34.050919Z"
    },
    "papermill": {
     "duration": 0.120323,
     "end_time": "2022-04-23T06:20:34.054119",
     "exception": false,
     "start_time": "2022-04-23T06:20:33.933796",
     "status": "completed"
    },
    "tags": []
   },
   "outputs": [],
   "source": [
    "model = Sequential()\n",
    "\n",
    "# 1st layer: input_dim=8, 12 nodes, RELU\n",
    "model.add(Dense(12, input_dim=8, kernel_initializer='random_uniform', activation='relu'))\n",
    "# 2nd layer: 8 nodes, RELU\n",
    "model.add(Dropout(0.1))\n",
    "\n",
    "model.add(Dense(8, kernel_initializer='random_uniform', activation='relu'))\n",
    "model.add(Dropout(rate=0.1))\n",
    "# output layer: dim=1, activation sigmoid\n",
    "model.add(Dense(1, kernel_initializer='random_uniform', activation='sigmoid' ))\n",
    "\n",
    "# Compile the model\n",
    "model.compile(loss='binary_crossentropy',   # since we are predicting 0/1\n",
    "             optimizer='adam',\n",
    "             metrics=['accuracy'])"
   ]
  },
  {
   "cell_type": "code",
   "execution_count": 16,
   "id": "0d9e31c3",
   "metadata": {
    "execution": {
     "iopub.execute_input": "2022-04-23T06:20:34.117267Z",
     "iopub.status.busy": "2022-04-23T06:20:34.116977Z",
     "iopub.status.idle": "2022-04-23T06:20:34.127141Z",
     "shell.execute_reply": "2022-04-23T06:20:34.126443Z"
    },
    "papermill": {
     "duration": 0.044506,
     "end_time": "2022-04-23T06:20:34.129143",
     "exception": false,
     "start_time": "2022-04-23T06:20:34.084637",
     "status": "completed"
    },
    "tags": []
   },
   "outputs": [],
   "source": [
    "model.compile(optimizer='adam', loss='binary_crossentropy', metrics=['accuracy'])"
   ]
  },
  {
   "cell_type": "code",
   "execution_count": 17,
   "id": "fc7be62b",
   "metadata": {
    "execution": {
     "iopub.execute_input": "2022-04-23T06:20:34.191559Z",
     "iopub.status.busy": "2022-04-23T06:20:34.191062Z",
     "iopub.status.idle": "2022-04-23T06:20:37.707395Z",
     "shell.execute_reply": "2022-04-23T06:20:37.706543Z"
    },
    "papermill": {
     "duration": 3.550102,
     "end_time": "2022-04-23T06:20:37.709498",
     "exception": false,
     "start_time": "2022-04-23T06:20:34.159396",
     "status": "completed"
    },
    "tags": []
   },
   "outputs": [
    {
     "name": "stderr",
     "output_type": "stream",
     "text": [
      "2022-04-23 06:20:34.281017: I tensorflow/compiler/mlir/mlir_graph_optimization_pass.cc:185] None of the MLIR Optimization Passes are enabled (registered 2)\n"
     ]
    },
    {
     "name": "stdout",
     "output_type": "stream",
     "text": [
      "Epoch 1/150\n",
      "7/7 [==============================] - 1s 2ms/step - loss: 0.6950 - accuracy: 0.4168\n",
      "Epoch 2/150\n",
      "7/7 [==============================] - 0s 2ms/step - loss: 0.6907 - accuracy: 0.6252\n",
      "Epoch 3/150\n",
      "7/7 [==============================] - 0s 2ms/step - loss: 0.6875 - accuracy: 0.6527\n",
      "Epoch 4/150\n",
      "7/7 [==============================] - 0s 2ms/step - loss: 0.6841 - accuracy: 0.6527\n",
      "Epoch 5/150\n",
      "7/7 [==============================] - 0s 2ms/step - loss: 0.6802 - accuracy: 0.6483\n",
      "Epoch 6/150\n",
      "7/7 [==============================] - 0s 2ms/step - loss: 0.6746 - accuracy: 0.6527\n",
      "Epoch 7/150\n",
      "7/7 [==============================] - 0s 2ms/step - loss: 0.6696 - accuracy: 0.6483\n",
      "Epoch 8/150\n",
      "7/7 [==============================] - 0s 2ms/step - loss: 0.6693 - accuracy: 0.6469\n",
      "Epoch 9/150\n",
      "7/7 [==============================] - 0s 2ms/step - loss: 0.6683 - accuracy: 0.6556\n",
      "Epoch 10/150\n",
      "7/7 [==============================] - 0s 2ms/step - loss: 0.6654 - accuracy: 0.6556\n",
      "Epoch 11/150\n",
      "7/7 [==============================] - 0s 2ms/step - loss: 0.6578 - accuracy: 0.6599\n",
      "Epoch 12/150\n",
      "7/7 [==============================] - 0s 2ms/step - loss: 0.6566 - accuracy: 0.6585\n",
      "Epoch 13/150\n",
      "7/7 [==============================] - 0s 2ms/step - loss: 0.6577 - accuracy: 0.6512\n",
      "Epoch 14/150\n",
      "7/7 [==============================] - 0s 2ms/step - loss: 0.6566 - accuracy: 0.6541\n",
      "Epoch 15/150\n",
      "7/7 [==============================] - 0s 2ms/step - loss: 0.6483 - accuracy: 0.6585\n",
      "Epoch 16/150\n",
      "7/7 [==============================] - 0s 2ms/step - loss: 0.6516 - accuracy: 0.6541\n",
      "Epoch 17/150\n",
      "7/7 [==============================] - 0s 2ms/step - loss: 0.6553 - accuracy: 0.6324\n",
      "Epoch 18/150\n",
      "7/7 [==============================] - 0s 2ms/step - loss: 0.6527 - accuracy: 0.6556\n",
      "Epoch 19/150\n",
      "7/7 [==============================] - 0s 2ms/step - loss: 0.6439 - accuracy: 0.6585\n",
      "Epoch 20/150\n",
      "7/7 [==============================] - 0s 2ms/step - loss: 0.6457 - accuracy: 0.6498\n",
      "Epoch 21/150\n",
      "7/7 [==============================] - 0s 2ms/step - loss: 0.6441 - accuracy: 0.6498\n",
      "Epoch 22/150\n",
      "7/7 [==============================] - 0s 2ms/step - loss: 0.6407 - accuracy: 0.6556\n",
      "Epoch 23/150\n",
      "7/7 [==============================] - 0s 2ms/step - loss: 0.6415 - accuracy: 0.6527\n",
      "Epoch 24/150\n",
      "7/7 [==============================] - 0s 2ms/step - loss: 0.6331 - accuracy: 0.6541\n",
      "Epoch 25/150\n",
      "7/7 [==============================] - 0s 2ms/step - loss: 0.6295 - accuracy: 0.6657\n",
      "Epoch 26/150\n",
      "7/7 [==============================] - 0s 2ms/step - loss: 0.6226 - accuracy: 0.6787\n",
      "Epoch 27/150\n",
      "7/7 [==============================] - 0s 2ms/step - loss: 0.6192 - accuracy: 0.6729\n",
      "Epoch 28/150\n",
      "7/7 [==============================] - 0s 2ms/step - loss: 0.6216 - accuracy: 0.6802\n",
      "Epoch 29/150\n",
      "7/7 [==============================] - 0s 2ms/step - loss: 0.6123 - accuracy: 0.6932\n",
      "Epoch 30/150\n",
      "7/7 [==============================] - 0s 2ms/step - loss: 0.6192 - accuracy: 0.6889\n",
      "Epoch 31/150\n",
      "7/7 [==============================] - 0s 2ms/step - loss: 0.6086 - accuracy: 0.7019\n",
      "Epoch 32/150\n",
      "7/7 [==============================] - 0s 2ms/step - loss: 0.5998 - accuracy: 0.6918\n",
      "Epoch 33/150\n",
      "7/7 [==============================] - 0s 2ms/step - loss: 0.6054 - accuracy: 0.6932\n",
      "Epoch 34/150\n",
      "7/7 [==============================] - 0s 2ms/step - loss: 0.6042 - accuracy: 0.7033\n",
      "Epoch 35/150\n",
      "7/7 [==============================] - 0s 2ms/step - loss: 0.5968 - accuracy: 0.7033\n",
      "Epoch 36/150\n",
      "7/7 [==============================] - 0s 2ms/step - loss: 0.6032 - accuracy: 0.7004\n",
      "Epoch 37/150\n",
      "7/7 [==============================] - 0s 2ms/step - loss: 0.5934 - accuracy: 0.7120\n",
      "Epoch 38/150\n",
      "7/7 [==============================] - 0s 2ms/step - loss: 0.5937 - accuracy: 0.7091\n",
      "Epoch 39/150\n",
      "7/7 [==============================] - 0s 2ms/step - loss: 0.5864 - accuracy: 0.7178\n",
      "Epoch 40/150\n",
      "7/7 [==============================] - 0s 2ms/step - loss: 0.5861 - accuracy: 0.7221\n",
      "Epoch 41/150\n",
      "7/7 [==============================] - 0s 2ms/step - loss: 0.6009 - accuracy: 0.6903\n",
      "Epoch 42/150\n",
      "7/7 [==============================] - 0s 2ms/step - loss: 0.5879 - accuracy: 0.7019\n",
      "Epoch 43/150\n",
      "7/7 [==============================] - 0s 2ms/step - loss: 0.5841 - accuracy: 0.7120\n",
      "Epoch 44/150\n",
      "7/7 [==============================] - 0s 2ms/step - loss: 0.5795 - accuracy: 0.7106\n",
      "Epoch 45/150\n",
      "7/7 [==============================] - 0s 2ms/step - loss: 0.5761 - accuracy: 0.7164\n",
      "Epoch 46/150\n",
      "7/7 [==============================] - 0s 2ms/step - loss: 0.5811 - accuracy: 0.7004\n",
      "Epoch 47/150\n",
      "7/7 [==============================] - 0s 2ms/step - loss: 0.5694 - accuracy: 0.7192\n",
      "Epoch 48/150\n",
      "7/7 [==============================] - 0s 2ms/step - loss: 0.5825 - accuracy: 0.7004\n",
      "Epoch 49/150\n",
      "7/7 [==============================] - 0s 2ms/step - loss: 0.5744 - accuracy: 0.7207\n",
      "Epoch 50/150\n",
      "7/7 [==============================] - 0s 2ms/step - loss: 0.5705 - accuracy: 0.7207\n",
      "Epoch 51/150\n",
      "7/7 [==============================] - 0s 2ms/step - loss: 0.5827 - accuracy: 0.7207\n",
      "Epoch 52/150\n",
      "7/7 [==============================] - 0s 2ms/step - loss: 0.5667 - accuracy: 0.7337\n",
      "Epoch 53/150\n",
      "7/7 [==============================] - 0s 2ms/step - loss: 0.5644 - accuracy: 0.7453\n",
      "Epoch 54/150\n",
      "7/7 [==============================] - 0s 2ms/step - loss: 0.5680 - accuracy: 0.7192\n",
      "Epoch 55/150\n",
      "7/7 [==============================] - 0s 2ms/step - loss: 0.5852 - accuracy: 0.7004\n",
      "Epoch 56/150\n",
      "7/7 [==============================] - 0s 2ms/step - loss: 0.5811 - accuracy: 0.7120\n",
      "Epoch 57/150\n",
      "7/7 [==============================] - 0s 2ms/step - loss: 0.5670 - accuracy: 0.7395\n",
      "Epoch 58/150\n",
      "7/7 [==============================] - 0s 2ms/step - loss: 0.5749 - accuracy: 0.7178\n",
      "Epoch 59/150\n",
      "7/7 [==============================] - 0s 2ms/step - loss: 0.5671 - accuracy: 0.7265\n",
      "Epoch 60/150\n",
      "7/7 [==============================] - 0s 2ms/step - loss: 0.5658 - accuracy: 0.7294\n",
      "Epoch 61/150\n",
      "7/7 [==============================] - 0s 2ms/step - loss: 0.5650 - accuracy: 0.7308\n",
      "Epoch 62/150\n",
      "7/7 [==============================] - 0s 2ms/step - loss: 0.5692 - accuracy: 0.7178\n",
      "Epoch 63/150\n",
      "7/7 [==============================] - 0s 2ms/step - loss: 0.5617 - accuracy: 0.7178\n",
      "Epoch 64/150\n",
      "7/7 [==============================] - 0s 2ms/step - loss: 0.5618 - accuracy: 0.7294\n",
      "Epoch 65/150\n",
      "7/7 [==============================] - 0s 2ms/step - loss: 0.5684 - accuracy: 0.7178\n",
      "Epoch 66/150\n",
      "7/7 [==============================] - 0s 2ms/step - loss: 0.5655 - accuracy: 0.7207\n",
      "Epoch 67/150\n",
      "7/7 [==============================] - 0s 2ms/step - loss: 0.5655 - accuracy: 0.7178\n",
      "Epoch 68/150\n",
      "7/7 [==============================] - 0s 2ms/step - loss: 0.5639 - accuracy: 0.7453\n",
      "Epoch 69/150\n",
      "7/7 [==============================] - 0s 2ms/step - loss: 0.5656 - accuracy: 0.7207\n",
      "Epoch 70/150\n",
      "7/7 [==============================] - 0s 2ms/step - loss: 0.5534 - accuracy: 0.7352\n",
      "Epoch 71/150\n",
      "7/7 [==============================] - 0s 2ms/step - loss: 0.5658 - accuracy: 0.7091\n",
      "Epoch 72/150\n",
      "7/7 [==============================] - 0s 2ms/step - loss: 0.5650 - accuracy: 0.7149\n",
      "Epoch 73/150\n",
      "7/7 [==============================] - 0s 2ms/step - loss: 0.5553 - accuracy: 0.7337\n",
      "Epoch 74/150\n",
      "7/7 [==============================] - 0s 2ms/step - loss: 0.5620 - accuracy: 0.7192\n",
      "Epoch 75/150\n",
      "7/7 [==============================] - 0s 2ms/step - loss: 0.5558 - accuracy: 0.7308\n",
      "Epoch 76/150\n",
      "7/7 [==============================] - 0s 2ms/step - loss: 0.5606 - accuracy: 0.7265\n",
      "Epoch 77/150\n",
      "7/7 [==============================] - 0s 2ms/step - loss: 0.5542 - accuracy: 0.7178\n",
      "Epoch 78/150\n",
      "7/7 [==============================] - 0s 2ms/step - loss: 0.5542 - accuracy: 0.7265\n",
      "Epoch 79/150\n",
      "7/7 [==============================] - 0s 2ms/step - loss: 0.5627 - accuracy: 0.7221\n",
      "Epoch 80/150\n",
      "7/7 [==============================] - 0s 2ms/step - loss: 0.5499 - accuracy: 0.7438\n",
      "Epoch 81/150\n",
      "7/7 [==============================] - 0s 2ms/step - loss: 0.5597 - accuracy: 0.7178\n",
      "Epoch 82/150\n",
      "7/7 [==============================] - 0s 2ms/step - loss: 0.5603 - accuracy: 0.7120\n",
      "Epoch 83/150\n",
      "7/7 [==============================] - 0s 2ms/step - loss: 0.5619 - accuracy: 0.7308\n",
      "Epoch 84/150\n",
      "7/7 [==============================] - 0s 2ms/step - loss: 0.5509 - accuracy: 0.7207\n",
      "Epoch 85/150\n",
      "7/7 [==============================] - 0s 2ms/step - loss: 0.5477 - accuracy: 0.7207\n",
      "Epoch 86/150\n",
      "7/7 [==============================] - 0s 2ms/step - loss: 0.5522 - accuracy: 0.7395\n",
      "Epoch 87/150\n",
      "7/7 [==============================] - 0s 2ms/step - loss: 0.5572 - accuracy: 0.7164\n",
      "Epoch 88/150\n",
      "7/7 [==============================] - 0s 2ms/step - loss: 0.5534 - accuracy: 0.7250\n",
      "Epoch 89/150\n",
      "7/7 [==============================] - 0s 2ms/step - loss: 0.5593 - accuracy: 0.7120\n",
      "Epoch 90/150\n",
      "7/7 [==============================] - 0s 2ms/step - loss: 0.5571 - accuracy: 0.7164\n",
      "Epoch 91/150\n",
      "7/7 [==============================] - 0s 2ms/step - loss: 0.5635 - accuracy: 0.7077\n",
      "Epoch 92/150\n",
      "7/7 [==============================] - 0s 2ms/step - loss: 0.5494 - accuracy: 0.7221\n",
      "Epoch 93/150\n",
      "7/7 [==============================] - 0s 2ms/step - loss: 0.5421 - accuracy: 0.7496\n",
      "Epoch 94/150\n",
      "7/7 [==============================] - 0s 2ms/step - loss: 0.5450 - accuracy: 0.7207\n",
      "Epoch 95/150\n",
      "7/7 [==============================] - 0s 2ms/step - loss: 0.5446 - accuracy: 0.7279\n",
      "Epoch 96/150\n",
      "7/7 [==============================] - 0s 2ms/step - loss: 0.5512 - accuracy: 0.7164\n",
      "Epoch 97/150\n",
      "7/7 [==============================] - 0s 2ms/step - loss: 0.5588 - accuracy: 0.7192\n",
      "Epoch 98/150\n",
      "7/7 [==============================] - 0s 2ms/step - loss: 0.5540 - accuracy: 0.7250\n",
      "Epoch 99/150\n",
      "7/7 [==============================] - 0s 2ms/step - loss: 0.5538 - accuracy: 0.7178\n",
      "Epoch 100/150\n",
      "7/7 [==============================] - 0s 2ms/step - loss: 0.5479 - accuracy: 0.7221\n",
      "Epoch 101/150\n",
      "7/7 [==============================] - 0s 2ms/step - loss: 0.5400 - accuracy: 0.7236\n",
      "Epoch 102/150\n",
      "7/7 [==============================] - 0s 2ms/step - loss: 0.5658 - accuracy: 0.7120\n",
      "Epoch 103/150\n",
      "7/7 [==============================] - 0s 2ms/step - loss: 0.5331 - accuracy: 0.7308\n",
      "Epoch 104/150\n",
      "7/7 [==============================] - 0s 2ms/step - loss: 0.5454 - accuracy: 0.7337\n",
      "Epoch 105/150\n",
      "7/7 [==============================] - 0s 2ms/step - loss: 0.5382 - accuracy: 0.7381\n",
      "Epoch 106/150\n",
      "7/7 [==============================] - 0s 2ms/step - loss: 0.5503 - accuracy: 0.7395\n",
      "Epoch 107/150\n",
      "7/7 [==============================] - 0s 2ms/step - loss: 0.5319 - accuracy: 0.7496\n",
      "Epoch 108/150\n",
      "7/7 [==============================] - 0s 2ms/step - loss: 0.5475 - accuracy: 0.7250\n",
      "Epoch 109/150\n",
      "7/7 [==============================] - 0s 2ms/step - loss: 0.5476 - accuracy: 0.7395\n",
      "Epoch 110/150\n",
      "7/7 [==============================] - 0s 2ms/step - loss: 0.5464 - accuracy: 0.7337\n",
      "Epoch 111/150\n",
      "7/7 [==============================] - 0s 2ms/step - loss: 0.5549 - accuracy: 0.7279\n",
      "Epoch 112/150\n",
      "7/7 [==============================] - 0s 2ms/step - loss: 0.5486 - accuracy: 0.7410\n",
      "Epoch 113/150\n",
      "7/7 [==============================] - 0s 2ms/step - loss: 0.5369 - accuracy: 0.7438\n",
      "Epoch 114/150\n",
      "7/7 [==============================] - 0s 2ms/step - loss: 0.5518 - accuracy: 0.7207\n",
      "Epoch 115/150\n",
      "7/7 [==============================] - 0s 2ms/step - loss: 0.5449 - accuracy: 0.7221\n",
      "Epoch 116/150\n",
      "7/7 [==============================] - 0s 2ms/step - loss: 0.5405 - accuracy: 0.7294\n",
      "Epoch 117/150\n",
      "7/7 [==============================] - 0s 2ms/step - loss: 0.5347 - accuracy: 0.7482\n",
      "Epoch 118/150\n",
      "7/7 [==============================] - 0s 2ms/step - loss: 0.5441 - accuracy: 0.7308\n",
      "Epoch 119/150\n",
      "7/7 [==============================] - 0s 2ms/step - loss: 0.5287 - accuracy: 0.7569\n",
      "Epoch 120/150\n",
      "7/7 [==============================] - 0s 2ms/step - loss: 0.5363 - accuracy: 0.7381\n",
      "Epoch 121/150\n",
      "7/7 [==============================] - 0s 2ms/step - loss: 0.5456 - accuracy: 0.7192\n",
      "Epoch 122/150\n",
      "7/7 [==============================] - 0s 2ms/step - loss: 0.5516 - accuracy: 0.7192\n",
      "Epoch 123/150\n",
      "7/7 [==============================] - 0s 2ms/step - loss: 0.5366 - accuracy: 0.7366\n",
      "Epoch 124/150\n",
      "7/7 [==============================] - 0s 2ms/step - loss: 0.5475 - accuracy: 0.7236\n",
      "Epoch 125/150\n",
      "7/7 [==============================] - 0s 2ms/step - loss: 0.5449 - accuracy: 0.7178\n",
      "Epoch 126/150\n",
      "7/7 [==============================] - 0s 2ms/step - loss: 0.5352 - accuracy: 0.7294\n",
      "Epoch 127/150\n",
      "7/7 [==============================] - 0s 2ms/step - loss: 0.5370 - accuracy: 0.7337\n",
      "Epoch 128/150\n",
      "7/7 [==============================] - 0s 2ms/step - loss: 0.5454 - accuracy: 0.7294\n",
      "Epoch 129/150\n",
      "7/7 [==============================] - 0s 2ms/step - loss: 0.5387 - accuracy: 0.7381\n",
      "Epoch 130/150\n",
      "7/7 [==============================] - 0s 2ms/step - loss: 0.5444 - accuracy: 0.7294\n",
      "Epoch 131/150\n",
      "7/7 [==============================] - 0s 2ms/step - loss: 0.5398 - accuracy: 0.7352\n",
      "Epoch 132/150\n",
      "7/7 [==============================] - 0s 2ms/step - loss: 0.5345 - accuracy: 0.7453\n",
      "Epoch 133/150\n",
      "7/7 [==============================] - 0s 2ms/step - loss: 0.5312 - accuracy: 0.7323\n",
      "Epoch 134/150\n",
      "7/7 [==============================] - 0s 2ms/step - loss: 0.5404 - accuracy: 0.7395\n",
      "Epoch 135/150\n",
      "7/7 [==============================] - 0s 2ms/step - loss: 0.5259 - accuracy: 0.7525\n",
      "Epoch 136/150\n",
      "7/7 [==============================] - 0s 2ms/step - loss: 0.5401 - accuracy: 0.7352\n",
      "Epoch 137/150\n",
      "7/7 [==============================] - 0s 2ms/step - loss: 0.5302 - accuracy: 0.7424\n",
      "Epoch 138/150\n",
      "7/7 [==============================] - 0s 2ms/step - loss: 0.5350 - accuracy: 0.7308\n",
      "Epoch 139/150\n",
      "7/7 [==============================] - 0s 2ms/step - loss: 0.5341 - accuracy: 0.7352\n",
      "Epoch 140/150\n",
      "7/7 [==============================] - 0s 2ms/step - loss: 0.5387 - accuracy: 0.7366\n",
      "Epoch 141/150\n",
      "7/7 [==============================] - 0s 2ms/step - loss: 0.5393 - accuracy: 0.7323\n",
      "Epoch 142/150\n",
      "7/7 [==============================] - 0s 2ms/step - loss: 0.5274 - accuracy: 0.7410\n",
      "Epoch 143/150\n",
      "7/7 [==============================] - 0s 3ms/step - loss: 0.5336 - accuracy: 0.7323\n",
      "Epoch 144/150\n",
      "7/7 [==============================] - 0s 2ms/step - loss: 0.5153 - accuracy: 0.7525\n",
      "Epoch 145/150\n",
      "7/7 [==============================] - 0s 2ms/step - loss: 0.5285 - accuracy: 0.7366\n",
      "Epoch 146/150\n",
      "7/7 [==============================] - 0s 2ms/step - loss: 0.5312 - accuracy: 0.7308\n",
      "Epoch 147/150\n",
      "7/7 [==============================] - 0s 2ms/step - loss: 0.5346 - accuracy: 0.7467\n",
      "Epoch 148/150\n",
      "7/7 [==============================] - 0s 2ms/step - loss: 0.5387 - accuracy: 0.7410\n",
      "Epoch 149/150\n",
      "7/7 [==============================] - 0s 2ms/step - loss: 0.5338 - accuracy: 0.7294\n",
      "Epoch 150/150\n",
      "7/7 [==============================] - 0s 2ms/step - loss: 0.5259 - accuracy: 0.7410\n"
     ]
    },
    {
     "data": {
      "text/plain": [
       "<keras.callbacks.History at 0x7fd9688f2dd0>"
      ]
     },
     "execution_count": 17,
     "metadata": {},
     "output_type": "execute_result"
    }
   ],
   "source": [
    "model.fit(X_Train, y_Train, batch_size=100, epochs=150)"
   ]
  },
  {
   "cell_type": "code",
   "execution_count": 18,
   "id": "11583f31",
   "metadata": {
    "execution": {
     "iopub.execute_input": "2022-04-23T06:20:38.047421Z",
     "iopub.status.busy": "2022-04-23T06:20:38.046643Z",
     "iopub.status.idle": "2022-04-23T06:20:38.199623Z",
     "shell.execute_reply": "2022-04-23T06:20:38.198642Z"
    },
    "papermill": {
     "duration": 0.324038,
     "end_time": "2022-04-23T06:20:38.202070",
     "exception": false,
     "start_time": "2022-04-23T06:20:37.878032",
     "status": "completed"
    },
    "tags": []
   },
   "outputs": [],
   "source": [
    "Y_pred = model.predict(X_Test)"
   ]
  }
 ],
 "metadata": {
  "kernelspec": {
   "display_name": "Python 3",
   "language": "python",
   "name": "python3"
  },
  "language_info": {
   "codemirror_mode": {
    "name": "ipython",
    "version": 3
   },
   "file_extension": ".py",
   "mimetype": "text/x-python",
   "name": "python",
   "nbconvert_exporter": "python",
   "pygments_lexer": "ipython3",
   "version": "3.7.12"
  },
  "papermill": {
   "default_parameters": {},
   "duration": 27.53811,
   "end_time": "2022-04-23T06:20:41.404509",
   "environment_variables": {},
   "exception": null,
   "input_path": "__notebook__.ipynb",
   "output_path": "__notebook__.ipynb",
   "parameters": {},
   "start_time": "2022-04-23T06:20:13.866399",
   "version": "2.3.4"
  }
 },
 "nbformat": 4,
 "nbformat_minor": 5
}
